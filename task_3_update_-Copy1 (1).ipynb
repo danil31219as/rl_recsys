{
 "cells": [
  {
   "cell_type": "code",
   "execution_count": 1,
   "id": "d2cf706f-61f6-40cf-948b-68839b2c287e",
   "metadata": {
    "cellId": "huydgn44hwaihflq1o7s"
   },
   "outputs": [],
   "source": [
    "%load_ext autoreload\n",
    "%autoreload 2"
   ]
  },
  {
   "cell_type": "markdown",
   "id": "d213fb6c-9c01-4343-ba68-46e8845925f5",
   "metadata": {
    "cellId": "2smaapc5z0t1i5825114lf",
    "execution_id": "1877baff-0309-4c5d-9b01-1d0149ef652c"
   },
   "source": [
    "## Обучение рекомендательной системы для симулированных пользователей"
   ]
  },
  {
   "cell_type": "markdown",
   "id": "15a48ec8",
   "metadata": {
    "cellId": "2v2pzwbofwczz4csnmcv8",
    "execution_id": "0b42902a-76ec-465b-b931-8986dd600557"
   },
   "source": [
    "Одна из задач симулятора - делать рекомендации, не используя реальные исторические данные. У вас нет исторических данных, но доступен симулятор, генерирующий отклики пользователей на рекомендации, который поможет получить данные в интерактивном режиме.\n",
    "\n",
    "\n",
    "### Пользователи\n",
    "3251 синтетических пользователей\n",
    "\n",
    "### Товары\n",
    "3327 товаров для рекомендаций\n",
    "\n",
    "В этом задании вам доступные фичи товаров (_./data/task_3_data/item_features.parquet_)\n",
    "\n",
    "### Задача\n",
    "Построить рекомендательную систему, которая даст наибольшее количество кликов\n",
    "\n",
    "### Доступные данные\n",
    "Пользователи будут реагировать на ваши рекомендации в интерактивном режиме. Вы получаете список пользователей, для каждого из которых нужно подготовить по 20 рекомендаций. Симулятор генерирует отклики на рекомендации, которые вы можете использовать для обучения рекомендательной системы."
   ]
  },
  {
   "cell_type": "markdown",
   "id": "24b7991d-ff52-4fcc-82db-78f8e388d9fb",
   "metadata": {
    "cellId": "clgbov6mhobo4qiiwnywgn",
    "execution_id": "0ef1e4af-a385-4203-be3b-13276e168c9f"
   },
   "source": [
    "## Симулятор\n",
    "Детальную информацию о симуляторе смотри в ноутбуке к заданию 1."
   ]
  },
  {
   "cell_type": "markdown",
   "id": "3bf128aa-7d5c-40e5-9543-660825fa7a24",
   "metadata": {},
   "source": [
    "## Импорты и настройки"
   ]
  },
  {
   "cell_type": "code",
   "execution_count": 1,
   "id": "1f9e6a59-2ab9-4cba-b188-59a96ca63289",
   "metadata": {
    "tags": []
   },
   "outputs": [],
   "source": [
    "import os\n",
    "from os.path import join\n",
    "import sys\n",
    "os.environ[\"PYSPARK_PYTHON\"]=sys.executable\n",
    "os.environ[\"PYSPARK_DRIVER_PYTHON\"]=sys.executable"
   ]
  },
  {
   "cell_type": "code",
   "execution_count": 2,
   "id": "fcafd084-d2fa-4d39-8d3e-073174c4b9e0",
   "metadata": {},
   "outputs": [],
   "source": [
    "import time\n",
    "import tqdm\n",
    "\n",
    "import pyspark.sql.functions as sf\n",
    "import pyspark.sql.types as st\n",
    "from pyspark.sql import SparkSession\n",
    "\n",
    "from replay.data_preparator import Indexer\n",
    "from replay.models import UCB\n",
    "from replay.session_handler import State\n",
    "from surprise import SVD, Dataset, Reader, SVDpp, KNNBaseline, SlopeOne, NMF\n",
    "\n",
    "from simulator.modules import Simulator, RealDataGenerator\n",
    "\n",
    "from helpers.task_3 import TaskThreeResponse\n",
    "from helpers.utils import plot_metric, calc_metric\n",
    "\n",
    "\n",
    "# укажите путь к tmp-папке spark и директории с чекпоинтами симулятора.\n",
    "SPARK_LOCAL_DIR = './tmp/task_3'\n",
    "CHECKPOINTS_DIR = './tmp/task_3_checkpoints'"
   ]
  },
  {
   "cell_type": "code",
   "execution_count": 3,
   "id": "b77f6a7a",
   "metadata": {
    "cellId": "sa91beayd9hjlowc74umzo",
    "code_folding": [
     37
    ]
   },
   "outputs": [
    {
     "name": "stderr",
     "output_type": "stream",
     "text": [
      "22/12/03 11:37:19 WARN Utils: Your hostname, cl1nr5sb14mq6gk2g9m8-ybuc resolves to a loopback address: 127.0.1.1; using 10.129.0.36 instead (on interface eth0)\n",
      "22/12/03 11:37:19 WARN Utils: Set SPARK_LOCAL_IP if you need to bind to another address\n",
      "WARNING: An illegal reflective access operation has occurred\n",
      "WARNING: Illegal reflective access by org.apache.spark.unsafe.Platform (file:/opt/venvs/hackenv/lib/python3.8/site-packages/pyspark/jars/spark-unsafe_2.12-3.1.3.jar) to constructor java.nio.DirectByteBuffer(long,int)\n",
      "WARNING: Please consider reporting this to the maintainers of org.apache.spark.unsafe.Platform\n",
      "WARNING: Use --illegal-access=warn to enable warnings of further illegal reflective access operations\n",
      "WARNING: All illegal access operations will be denied in a future release\n",
      "22/12/03 11:37:19 WARN NativeCodeLoader: Unable to load native-hadoop library for your platform... using builtin-java classes where applicable\n",
      "Using Spark's default log4j profile: org/apache/spark/log4j-defaults.properties\n",
      "Setting default log level to \"WARN\".\n",
      "To adjust logging level use sc.setLogLevel(newLevel). For SparkR, use setLogLevel(newLevel).\n",
      "22/12/03 11:37:20 WARN SparkConf: Note that spark.local.dir will be overridden by the value set by the cluster manager (via SPARK_LOCAL_DIRS in mesos/standalone/kubernetes and LOCAL_DIRS in YARN).\n",
      "22/12/03 11:37:20 WARN Utils: Service 'SparkUI' could not bind on port 4040. Attempting port 4041.\n",
      "22/12/03 11:37:20 WARN Utils: Service 'SparkUI' could not bind on port 4041. Attempting port 4042.\n",
      "22/12/03 11:37:20 WARN Utils: Service 'SparkUI' could not bind on port 4042. Attempting port 4043.\n"
     ]
    }
   ],
   "source": [
    "NUM_THREADS = 4\n",
    "spark = SparkSession.builder\\\n",
    "    .appName('simulator')\\\n",
    "    .master(f'local[{NUM_THREADS}]')\\\n",
    "    .config('spark.sql.shuffle.partitions', f'{NUM_THREADS * 3}')\\\n",
    "    .config('spark.default.parallelism', f'{NUM_THREADS * 3}')\\\n",
    "    .config('spark.driver.extraJavaOptions', '-XX:+UseG1GC')\\\n",
    "    .config('spark.executor.extraJavaOptions', '-XX:+UseG1GC')\\\n",
    "    .config('spark.local.dir', SPARK_LOCAL_DIR)\\\n",
    "    .getOrCreate()\n",
    "State(spark)\n",
    "spark.sparkContext.setLogLevel(\"ERROR\");"
   ]
  },
  {
   "cell_type": "code",
   "execution_count": 4,
   "id": "cf0980b7-521c-4a15-b141-980d758f9d9f",
   "metadata": {},
   "outputs": [],
   "source": [
    "NUM_ITEMS = 3327\n",
    "NUM_USERS = 3251\n",
    "# число рекомендаций, генерируемых рекомендательной системой на пользователя на одной итерации\n",
    "K = 20\n",
    "# количество итераций\n",
    "NUM_ITER = 50\n",
    "SEED = 1234"
   ]
  },
  {
   "cell_type": "code",
   "execution_count": 5,
   "id": "036cc666-5ed9-4523-af17-b4d99173fb99",
   "metadata": {},
   "outputs": [],
   "source": [
    "LOG_SCHEMA = st.StructType([\n",
    "    st.StructField('user_idx', st.IntegerType()),\n",
    "    st.StructField('item_idx', st.IntegerType()),\n",
    "    st.StructField('relevance', st.DoubleType()),\n",
    "    st.StructField('timestamp', st.IntegerType())\n",
    "])"
   ]
  },
  {
   "cell_type": "markdown",
   "id": "83211cba-f60f-47b2-8103-204ac672e1cc",
   "metadata": {
    "cellId": "ffl9l89trncxzwbk5zq7gn",
    "execution_id": "ac55437a-5d87-45a8-b860-a28fb0526c6d"
   },
   "source": [
    "## Исходные данные"
   ]
  },
  {
   "cell_type": "markdown",
   "id": "91c3f568-3855-41eb-970e-4e5edae93dce",
   "metadata": {
    "cellId": "v3vr0zvzup8v5pgz5d2av8",
    "execution_id": "b4091cdb-7f7c-4d22-a619-3b9ec21523d8"
   },
   "source": [
    "В нашем распоряжении есть id пользователей и товаров."
   ]
  },
  {
   "cell_type": "code",
   "execution_count": 6,
   "id": "782013b9-f86e-416c-833d-49486a147b1e",
   "metadata": {},
   "outputs": [
    {
     "name": "stdout",
     "output_type": "stream",
     "text": [
      "+----------+\n",
      "|   user_id|\n",
      "+----------+\n",
      "|synth_2438|\n",
      "|synth_2439|\n",
      "+----------+\n",
      "only showing top 2 rows\n",
      "\n"
     ]
    }
   ],
   "source": [
    "syn_users = spark.read.parquet('data/task_3_data/user_idx.parquet')\n",
    "available_items = spark.read.parquet('data/task_3_data/item_idx.parquet')\n",
    "syn_users.show(2)"
   ]
  },
  {
   "cell_type": "code",
   "execution_count": 7,
   "id": "ae7cca19-848e-4cf9-8ce9-271b8848067f",
   "metadata": {},
   "outputs": [
    {
     "data": {
      "text/plain": [
       "3251"
      ]
     },
     "execution_count": 7,
     "metadata": {},
     "output_type": "execute_result"
    }
   ],
   "source": [
    "indexer = Indexer(user_col='user_id', item_col='item_id')\n",
    "indexer.fit(users=syn_users, items=available_items)\n",
    "users = indexer.transform(syn_users)\n",
    "users.cache()\n",
    "users.count()"
   ]
  },
  {
   "cell_type": "code",
   "execution_count": 8,
   "id": "fa076598-7785-44c2-a220-b1f6ae589651",
   "metadata": {},
   "outputs": [
    {
     "data": {
      "text/plain": [
       "3327"
      ]
     },
     "execution_count": 8,
     "metadata": {},
     "output_type": "execute_result"
    }
   ],
   "source": [
    "items = indexer.transform(available_items)\n",
    "items.cache()\n",
    "items.count()"
   ]
  },
  {
   "cell_type": "code",
   "execution_count": 9,
   "id": "723e24d0-46ad-4df0-bac9-6d40b968b701",
   "metadata": {},
   "outputs": [
    {
     "name": "stdout",
     "output_type": "stream",
     "text": [
      "+--------+\n",
      "|user_idx|\n",
      "+--------+\n",
      "|    1600|\n",
      "|    1601|\n",
      "+--------+\n",
      "only showing top 2 rows\n",
      "\n"
     ]
    }
   ],
   "source": [
    "users.show(2)"
   ]
  },
  {
   "cell_type": "markdown",
   "id": "12f4498e-3b75-41d7-a0a2-e7ade7e5a26b",
   "metadata": {
    "cellId": "cgqy3lu80i4yibn7o7ny9",
    "execution_id": "28e1cbb4-084e-4b14-88ef-7bc109b02abb"
   },
   "source": [
    "## Модель отклика"
   ]
  },
  {
   "cell_type": "markdown",
   "id": "790caaaa-2992-4122-b6db-41ae40ad6326",
   "metadata": {
    "cellId": "7m11axprgbnc8wgrnr20km",
    "execution_id": "58d19726-5c12-4e2a-90b6-73681f8e6f7d"
   },
   "source": [
    "Модель отклика принимает датафрейм с колонками <user_idx, item_idx, relevance>, где relevance - оценка релевантности рекомендательной системы и возвращает датафрейм с обязательными колонками <user_idx, item_idx, relevance, response>, добавляя к исходным данным столбец с откликами (response). Если в датафрейме, поданном на вход в модель отклика, были признаки, они также будут возвращены."
   ]
  },
  {
   "cell_type": "code",
   "execution_count": 10,
   "id": "a016c564-01cc-4775-a9b8-fec130fcbf2e",
   "metadata": {},
   "outputs": [],
   "source": [
    "task_3_model = TaskThreeResponse(spark)"
   ]
  },
  {
   "cell_type": "markdown",
   "id": "40a5e387-f004-44e3-be92-2c073e88faf3",
   "metadata": {
    "cellId": "w6ds3t0qf5l0zbfq4l9u15",
    "execution_id": "ecb7defd-980b-49a4-ba72-abbe6dec29c1"
   },
   "source": [
    "Посмотрим на примере, как формируется отклик для пар:"
   ]
  },
  {
   "cell_type": "code",
   "execution_count": 11,
   "id": "a7003609-25cd-48bf-884e-7e19ab7b124b",
   "metadata": {},
   "outputs": [
    {
     "name": "stderr",
     "output_type": "stream",
     "text": [
      "[Stage 26:>                                                         (0 + 1) / 1]\r"
     ]
    },
    {
     "name": "stdout",
     "output_type": "stream",
     "text": [
      "+--------+--------+---------+--------+\n",
      "|item_idx|user_idx|relevance|response|\n",
      "+--------+--------+---------+--------+\n",
      "|       0|    1600|      1.0|       0|\n",
      "|       1|    1600|      1.0|       0|\n",
      "+--------+--------+---------+--------+\n",
      "\n"
     ]
    },
    {
     "name": "stderr",
     "output_type": "stream",
     "text": [
      "                                                                                \r"
     ]
    }
   ],
   "source": [
    "task_3_model.transform(\n",
    "    users.limit(1).crossJoin(items.limit(2)).withColumn(\"relevance\", sf.lit(1.))\n",
    ").select('item_idx', 'user_idx', 'relevance', 'response').show()"
   ]
  },
  {
   "cell_type": "markdown",
   "id": "f1f76796-9746-4c2e-8fc3-369d8292a57f",
   "metadata": {
    "cellId": "o0o3kq6tjrs7tuvbdikavd",
    "execution_id": "7c137458-8817-41ef-aa39-c255fe3286f6"
   },
   "source": [
    "# Обучение модели в симуляторе"
   ]
  },
  {
   "cell_type": "markdown",
   "id": "f080ffc3-b2c3-485d-aa96-c31fdbe240c3",
   "metadata": {
    "cellId": "m69ycwht2xw4zqjda67f",
    "execution_id": "d0230060-cc25-4a54-8324-239725199e9a"
   },
   "source": [
    "Перейдем непосредственно к циклу симуляции. Инициализируем симулятор и все нужные для симуляции модели. Обратите внимание, что если вы захотите перезапустить эксперимент, нужно будет выбрать другую папку для сохранения данных `data_dir` или удалить с диска результаты предыдущего эксперимента. Либо вы можете продолжить эксперимент с новой итерации (например, последней была выполнена 10 итерация, значит цикл нужно продолжить с 11-ой). \n",
    "\n",
    "Запустите ячейки ниже последовательно, чтобы начать новый эксперимент."
   ]
  },
  {
   "cell_type": "markdown",
   "id": "7bed0282-1777-4573-a278-167a6a792457",
   "metadata": {
    "cellId": "wkff236bnjdemsw693fj6s",
    "execution_id": "2f344684-ba2b-4d19-9079-527e6e2d7969"
   },
   "source": [
    "## Инциализируем компоненты симулятора"
   ]
  },
  {
   "cell_type": "code",
   "execution_count": 12,
   "id": "e8fb5870-b54b-4903-b778-2151165993d2",
   "metadata": {},
   "outputs": [
    {
     "data": {
      "text/plain": [
       "DataFrame[user_idx: int]"
      ]
     },
     "execution_count": 12,
     "metadata": {},
     "output_type": "execute_result"
    }
   ],
   "source": [
    "item_generator = RealDataGenerator(label='items_real', seed=SEED)\n",
    "user_generator = RealDataGenerator(label='users_real', seed=SEED)\n",
    "\n",
    "# передадим популяции пользователей и айтемов\n",
    "item_generator.fit(items)\n",
    "user_generator.fit(users)\n",
    "\n",
    "# будем использовать всех пользователей и айтемы из популяции\n",
    "item_generator.generate(NUM_ITEMS)\n",
    "user_generator.generate(NUM_USERS)"
   ]
  },
  {
   "cell_type": "code",
   "execution_count": 13,
   "id": "3230e673-7158-4528-8d06-733c945f9cbc",
   "metadata": {},
   "outputs": [
    {
     "name": "stdout",
     "output_type": "stream",
     "text": [
      "+--------+\n",
      "|user_idx|\n",
      "+--------+\n",
      "|    1518|\n",
      "|     731|\n",
      "+--------+\n",
      "only showing top 2 rows\n",
      "\n"
     ]
    }
   ],
   "source": [
    "user_generator.sample(0.01).show(2)"
   ]
  },
  {
   "cell_type": "code",
   "execution_count": 14,
   "id": "62036666-c13f-46c1-9db6-ac3350d4b0f9",
   "metadata": {},
   "outputs": [],
   "source": [
    "!rm -r $CHECKPOINTS_DIR"
   ]
  },
  {
   "cell_type": "code",
   "execution_count": 15,
   "id": "57324789",
   "metadata": {
    "cellId": "xio7uuip4g6g3anj2xax4"
   },
   "outputs": [],
   "source": [
    "sim = Simulator(\n",
    "    user_gen=user_generator,\n",
    "    item_gen=item_generator,\n",
    "    user_key_col='user_idx',\n",
    "    item_key_col='item_idx',\n",
    "    spark_session=spark,\n",
    "    data_dir=CHECKPOINTS_DIR,\n",
    ")"
   ]
  },
  {
   "cell_type": "markdown",
   "id": "6b15e33f-ba42-4f11-9505-2ccaefbcd42e",
   "metadata": {
    "cellId": "35d5ikn8w0sa9v9nekytlf",
    "execution_id": "ce78df74-0f10-44ee-a979-c30e250a5621"
   },
   "source": [
    "## Инициализация вашей рекомендательной модели"
   ]
  },
  {
   "cell_type": "code",
   "execution_count": 16,
   "id": "0783402d-411a-4349-aec7-4872f40e15a3",
   "metadata": {},
   "outputs": [],
   "source": [
    "from sklearn.preprocessing import MinMaxScaler\n",
    "import numpy as np\n",
    "import pandas as pd\n",
    "class SVDRL:\n",
    "    def __init__(self):\n",
    "        #self.model = SVDpp(n_factors=20, n_epochs=20)\n",
    "        self.models = [(KNNBaseline(k=40), 0.5), (SVDpp(n_factors=20, n_epochs=20), 0.3), (SVD(), 0.2)]\n",
    "        #self.model = NMF(n_factors=20, n_epochs=20)\n",
    "        self.ucb = UCB(sample=True, seed=SEED)\n",
    "        self.scaler = MinMaxScaler()\n",
    "        \n",
    "    def fit(self, log=None):\n",
    "        self.ucb.fit(log)\n",
    "        log = log.toPandas()\n",
    "        reader = Reader(rating_scale=(0, 1))\n",
    "        data = Dataset.load_from_df(log[[\"user_idx\", \"item_idx\", \"relevance\"]], reader)\n",
    "        trainset = data.build_full_trainset()\n",
    "        for e in range(3):\n",
    "            self.models[e][0].fit(trainset)\n",
    "        #self.model.fit(trainset)\n",
    "        \n",
    "    def predict(self, log=None, k=None, users=None, items=None, filter_seen_items=None):\n",
    "        result = []\n",
    "        recs = self.ucb.predict(\n",
    "            log=log,\n",
    "            k=items.count(),\n",
    "            users=users,\n",
    "            items=items,\n",
    "            filter_seen_items=False\n",
    "        ).cache()\n",
    "        recs = recs.toPandas().sort_values(by=['user_idx', 'item_idx'])\n",
    "        recs['relevance'] = self.scaler.fit_transform(np.array(recs['relevance']).reshape(-1, 1)).reshape(-1)\n",
    "        it_ = 0\n",
    "        for u in sorted(users.toPandas()['user_idx']):\n",
    "            buffer = []\n",
    "            for i in sorted(items.toPandas()['item_idx']):\n",
    "                score = sum([model[0].predict(u, i).est * model[1] for model in self.models]) + recs.iloc[it_]['relevance'] * 0.1\n",
    "                it_ += 1\n",
    "                buffer.append((u, i, score))\n",
    "            buffer.sort(key=lambda x: -x[2])\n",
    "            result.extend(buffer[:k])\n",
    "        return spark.createDataFrame(pd.DataFrame(result, columns=['user_idx', 'item_idx', 'relevance']))"
   ]
  },
  {
   "cell_type": "code",
   "execution_count": 17,
   "id": "1bf19341",
   "metadata": {
    "cellId": "dufzi982ho5vk4eb30d45",
    "scrolled": true
   },
   "outputs": [],
   "source": [
    "### YOUR CODE HERE: инициализация модели. Замените код бейзлайна на ваш код\n",
    "\n",
    "#model = UCB(exploration_coef=0.1, sample=True, seed=SEED)\n",
    "model = UCB(seed=SEED, sample=True)\n",
    "# Модель из RePlay нужно обучить на исторических данных, прежде чем можно будет обучать ее дальше в цикле \n",
    "# Обойдем это ограничение, представив, что в истории было одно взаимодействие\n",
    "model.fit(log=users.limit(1).crossJoin(items.limit(1)).withColumn(\"relevance\", sf.lit(1)))"
   ]
  },
  {
   "cell_type": "markdown",
   "id": "e28288c7-269b-4cd6-ab95-307606b56e6d",
   "metadata": {
    "cellId": "32xq7dw4q0uk4bwf04bzac",
    "execution_id": "5a37dcac-ecb3-4c8a-b613-96059682e31d"
   },
   "source": [
    "### Проверка формата рекомендаций моделью"
   ]
  },
  {
   "cell_type": "code",
   "execution_count": 18,
   "id": "27b6f99f-b515-47a5-89f9-a24e7cede9ed",
   "metadata": {
    "cellId": "mz1tro3j75j8a8hcuvjvl7"
   },
   "outputs": [],
   "source": [
    "### YOUR CODE HERE: получите K уникальных рекомендаций для 10 пользователей \n",
    "pred = model.predict(log=None, users=users.limit(10), items=items, k=K)\n",
    "###\n",
    "\n",
    "# проверьте правильность формирования рекомендаций\n",
    "assert pred.columns == [\"user_idx\", \"item_idx\", \"relevance\"]\n",
    "assert pred.groupBy('user_idx').agg(sf.countDistinct(\"item_idx\").alias(\"num_items\")).filter(sf.col(\"num_items\") == sf.lit(K)).count() == 10\n",
    "assert pred.groupBy('user_idx').agg(sf.count(\"item_idx\").alias(\"num_items\")).filter(sf.col(\"num_items\") == sf.lit(K)).count() == 10"
   ]
  },
  {
   "cell_type": "markdown",
   "id": "ebc5f9e3-89f8-4aff-8f91-91eca5a020ba",
   "metadata": {
    "cellId": "1t5x6egzvjmz7yk9tc7gf",
    "execution_id": "50e4dc71-1b47-4832-af9f-efcd08b5b47c"
   },
   "source": [
    "## Цикл симуляции"
   ]
  },
  {
   "cell_type": "markdown",
   "id": "0ab5a384-a0cd-422a-94c5-357d3a8025ea",
   "metadata": {},
   "source": [
    "Модель UCB не является персонализированной, поэтому довольно плохо подходит для задачи предсказания для персонализированной модели отклика основанной на тематических интересах. Она дана вам в качестве бейзлайна. Надеемся, у вас получится подобрать более подходящую модель. \n",
    "\n",
    "UPD: TODO Аня"
   ]
  },
  {
   "cell_type": "code",
   "execution_count": 19,
   "id": "e7a2d819",
   "metadata": {
    "cellId": "0wfjky8zu79nvu2zgl80vs",
    "code_folding": [
     4,
     12,
     16,
     26,
     28,
     34,
     46,
     54
    ],
    "scrolled": true,
    "tags": []
   },
   "outputs": [
    {
     "data": {
      "image/png": "[encoded data removed]",
      "text/plain": [
       "<Figure size 640x480 with 1 Axes>"
      ]
     },
     "metadata": {},
     "output_type": "display_data"
    },
    {
     "name": "stdout",
     "output_type": "stream",
     "text": [
      "Iteration 49 finished in 4.654432773590088 sec.\n"
     ]
    }
   ],
   "source": [
    "metrics = []\n",
    "for i in tqdm.auto.tqdm(range(NUM_ITER)):\n",
    "    print(f'Iteration {i} started')\n",
    "    iter_time = time.time()\n",
    "    # выбираем пользователей, которые делают покупки на данной итерации\n",
    "    current_users = sim.sample_users(0.1).cache()\n",
    "    # получаем историю их взаимодействия с симулятором в прошлом\n",
    "    log = sim.get_log(current_users)\n",
    "    \n",
    "\n",
    "    ### YOUR CODE HERE: порекомендуйте top-K товаров для каждого пользователя из current_users\n",
    "    recs = model.predict(\n",
    "       log=log,\n",
    "       k=K,\n",
    "       users=current_users.select(\"user_idx\"),\n",
    "       items=items,\n",
    "       filter_seen_items=False\n",
    "    ).cache()\n",
    "\n",
    "    assert (recs\n",
    "            .groupBy('user_idx')\n",
    "            .agg(sf.count(\"item_idx\").alias(\"num_items\"))\n",
    "            .filter(sf.col(\"num_items\") == sf.lit(K))\n",
    "            .count() \n",
    "            == \n",
    "            current_users.count()\n",
    "           )\n",
    "\n",
    "    # получаем отклики на рекомендации\n",
    "    true_resp = sim.sample_responses(\n",
    "        recs_df=recs,\n",
    "        user_features=current_users,\n",
    "        item_features=items,\n",
    "        action_models=task_3_model,\n",
    "    ).select('user_idx', 'item_idx', 'relevance', 'response').cache()\n",
    "\n",
    "    # записываем историю взаимодействия пользователей с рекомендательной системой на этой итерации\n",
    "    sim.update_log(true_resp, iteration=i)\n",
    "    \n",
    "    # оцениваем качество\n",
    "    metrics.append(calc_metric(true_resp))\n",
    "\n",
    "    ### YOUR CODE HERE: дообучите рекомендательную модель на новых данных\n",
    "    model._clear_cache()\n",
    "    train_log = sim.log.cache()\n",
    "    model.fit(\n",
    "        log=indexer.transform(\n",
    "            train_log.select('user_idx', 'item_idx', 'response')\\\n",
    "                     .withColumnRenamed('response', 'relevance')\n",
    "        )\n",
    "    )\n",
    "    ###\n",
    "\n",
    "    current_users.unpersist()\n",
    "    if log is not None:\n",
    "        log.unpersist()\n",
    "    recs.unpersist()\n",
    "    true_resp.unpersist()\n",
    "    train_log.unpersist()\n",
    "    \n",
    "    plot_metric(metrics)\n",
    "    print(f'Iteration {i} finished in {time.time() - iter_time} sec.')"
   ]
  },
  {
   "cell_type": "code",
   "execution_count": 26,
   "id": "5725d3d7-b697-4c17-8263-e68c8663729d",
   "metadata": {},
   "outputs": [
    {
     "ename": "TypeError",
     "evalue": "cannot pickle '_thread.RLock' object",
     "output_type": "error",
     "traceback": [
      "\u001b[0;31m---------------------------------------------------------------------------\u001b[0m",
      "\u001b[0;31mTypeError\u001b[0m                                 Traceback (most recent call last)",
      "Cell \u001b[0;32mIn [26], line 3\u001b[0m\n\u001b[1;32m      1\u001b[0m \u001b[38;5;28;01mimport\u001b[39;00m \u001b[38;5;21;01mpickle\u001b[39;00m\n\u001b[0;32m----> 3\u001b[0m \u001b[43mpickle\u001b[49m\u001b[38;5;241;43m.\u001b[39;49m\u001b[43mdump\u001b[49m\u001b[43m(\u001b[49m\u001b[43mmodel\u001b[49m\u001b[38;5;241;43m.\u001b[39;49m\u001b[43mucb\u001b[49m\u001b[43m,\u001b[49m\u001b[43m \u001b[49m\u001b[38;5;28;43mopen\u001b[39;49m\u001b[43m(\u001b[49m\u001b[38;5;124;43m'\u001b[39;49m\u001b[38;5;124;43mtask3_model_ucb.pkl\u001b[39;49m\u001b[38;5;124;43m'\u001b[39;49m\u001b[43m,\u001b[49m\u001b[43m \u001b[49m\u001b[38;5;124;43m'\u001b[39;49m\u001b[38;5;124;43mwb\u001b[39;49m\u001b[38;5;124;43m'\u001b[39;49m\u001b[43m)\u001b[49m\u001b[43m)\u001b[49m\n",
      "\u001b[0;31mTypeError\u001b[0m: cannot pickle '_thread.RLock' object"
     ]
    }
   ],
   "source": [
    "# import pickle\n",
    "\n",
    "# pickle.dump(model.models, open('task3_model.pkl', 'wb'))"
   ]
  },
  {
   "cell_type": "code",
   "execution_count": 27,
   "id": "23947bcb-0b16-44fe-8972-0d11b3bbc97e",
   "metadata": {},
   "outputs": [],
   "source": [
    "#from replay.model_handler import save"
   ]
  },
  {
   "cell_type": "code",
   "execution_count": 31,
   "id": "dcf9db12-c966-4d04-9de2-20f1f1fdd1d0",
   "metadata": {},
   "outputs": [
    {
     "data": {
      "text/plain": [
       "[(<surprise.prediction_algorithms.knns.KNNBaseline at 0x7f34e8d71310>, 0.5),\n",
       " (<surprise.prediction_algorithms.matrix_factorization.SVDpp at 0x7f34f4365700>,\n",
       "  0.3),\n",
       " (<surprise.prediction_algorithms.matrix_factorization.SVD at 0x7f34f4365460>,\n",
       "  0.2)]"
      ]
     },
     "execution_count": 31,
     "metadata": {},
     "output_type": "execute_result"
    },
    {
     "name": "stderr",
     "output_type": "stream",
     "text": [
      "----------------------------------------\n",
      "Exception happened during processing of request from ('127.0.0.1', 54244)\n",
      "Traceback (most recent call last):\n",
      "  File \"/usr/lib/python3.8/socketserver.py\", line 316, in _handle_request_noblock\n",
      "    self.process_request(request, client_address)\n",
      "  File \"/usr/lib/python3.8/socketserver.py\", line 347, in process_request\n",
      "    self.finish_request(request, client_address)\n",
      "  File \"/usr/lib/python3.8/socketserver.py\", line 360, in finish_request\n",
      "    self.RequestHandlerClass(request, client_address, self)\n",
      "  File \"/usr/lib/python3.8/socketserver.py\", line 747, in __init__\n",
      "    self.handle()\n",
      "  File \"/opt/venvs/hackenv/lib/python3.8/site-packages/pyspark/accumulators.py\", line 262, in handle\n",
      "    poll(accum_updates)\n",
      "  File \"/opt/venvs/hackenv/lib/python3.8/site-packages/pyspark/accumulators.py\", line 235, in poll\n",
      "    if func():\n",
      "  File \"/opt/venvs/hackenv/lib/python3.8/site-packages/pyspark/accumulators.py\", line 239, in accum_updates\n",
      "    num_updates = read_int(self.rfile)\n",
      "  File \"/opt/venvs/hackenv/lib/python3.8/site-packages/pyspark/serializers.py\", line 564, in read_int\n",
      "    raise EOFError\n",
      "EOFError\n",
      "----------------------------------------\n"
     ]
    }
   ],
   "source": [
    "#pickle.load(open('task3_model.pkl', 'rb'))"
   ]
  },
  {
   "cell_type": "markdown",
   "id": "60c8ebc1-2b6e-4ee5-b109-15223003dbc3",
   "metadata": {
    "cellId": "88e22p9mr9l14b1w99sb",
    "execution_id": "39f72a9b-e28c-4ae8-8c63-9f1dfc59721a"
   },
   "source": [
    "## Финальный результат"
   ]
  },
  {
   "cell_type": "code",
   "execution_count": 20,
   "id": "a5dd1a6b-f539-4344-9397-4825e1dc4f9e",
   "metadata": {},
   "outputs": [],
   "source": [
    "import pickle\n",
    "model_svd = SVDRL()\n",
    "model_svd.models = pickle.load(open('task3_model.pkl', 'rb'))\n",
    "model_svd.ucb = model"
   ]
  },
  {
   "cell_type": "code",
   "execution_count": 21,
   "id": "6128e60c-986c-4130-8300-d687bb3c1a7a",
   "metadata": {},
   "outputs": [
    {
     "data": {
      "application/vnd.jupyter.widget-view+json": {
       "model_id": "6ac818bd98e14558b8e49a54d5a3625d",
       "version_major": 2,
       "version_minor": 0
      },
      "text/plain": [
       "  0%|          | 0/33 [00:00<?, ?it/s]"
      ]
     },
     "metadata": {},
     "output_type": "display_data"
    },
    {
     "name": "stderr",
     "output_type": "stream",
     "text": [
      "                                                                                \r"
     ]
    }
   ],
   "source": [
    "users_df = users.toPandas()\n",
    "res_df = []\n",
    "for i in tqdm.notebook.tqdm(range(0, users.count(), 100)):\n",
    "    cur_users_df = users_df[i:i+100]\n",
    "    recs = model_svd.predict(\n",
    "        log=sim.log,\n",
    "        k=K,\n",
    "        users=spark.createDataFrame(cur_users_df),\n",
    "        items=items,\n",
    "        filter_seen_items=False\n",
    "    ).toPandas()\n",
    "    res_df.append(recs)"
   ]
  },
  {
   "cell_type": "code",
   "execution_count": 23,
   "id": "4545b9de-a4c0-49f6-b9b0-cff25906b107",
   "metadata": {},
   "outputs": [],
   "source": [
    "pickle.dump(res_df, open('preds_task3.pkl', 'wb'))"
   ]
  },
  {
   "cell_type": "code",
   "execution_count": 24,
   "id": "d9428c48-72e4-4b8a-9bf2-cf774e04eb76",
   "metadata": {},
   "outputs": [],
   "source": [
    "recs = pd.concat(res_df)"
   ]
  },
  {
   "cell_type": "code",
   "execution_count": 26,
   "id": "ca49e1d8-8c8d-4f71-b443-5d4d17eb2d08",
   "metadata": {},
   "outputs": [],
   "source": [
    "recs = spark.createDataFrame(recs)"
   ]
  },
  {
   "cell_type": "code",
   "execution_count": 27,
   "id": "3c4b3322-43b3-4d65-80dc-abbb8c8395d6",
   "metadata": {
    "cellId": "s06ebpys4j0613t0tm6h5p"
   },
   "outputs": [],
   "source": [
    "### YOUR CODE HERE: порекомендуйте top-K товаров для каждого пользователя из current_users\n",
    "# recs = model.predict(\n",
    "#     log=sim.log,\n",
    "#     k=K,\n",
    "#     users=users,\n",
    "#     items=items,\n",
    "#     filter_seen_items=False\n",
    "# ).cache()\n",
    "###\n",
    "\n",
    "assert (recs\n",
    "        .groupBy('user_idx')\n",
    "        .agg(sf.count(\"item_idx\").alias(\"num_items\"))\n",
    "        .filter(sf.col(\"num_items\") == sf.lit(K))\n",
    "        .count() == users.count()\n",
    "       )"
   ]
  },
  {
   "cell_type": "markdown",
   "id": "f05c3479-978a-456d-9e0f-835fff5db090",
   "metadata": {},
   "source": [
    "Сохраните ноутбук, ячейки в котором выполнены последовательно. Результаты из ячейки ниже будут использоваться для оценки решения команды. Свою модель приложите к ноутбуку в виде py-файла и импортируйте модель из него для всех трех заданий. "
   ]
  },
  {
   "cell_type": "code",
   "execution_count": 28,
   "id": "fa7c3ba0-92a5-4950-b513-3c466fdb4b72",
   "metadata": {
    "cellId": "jkr7id6a4fotox3u6qyrn"
   },
   "outputs": [
    {
     "name": "stderr",
     "output_type": "stream",
     "text": [
      "[Stage 6586:=================================================>    (11 + 1) / 12]\r"
     ]
    },
    {
     "name": "stdout",
     "output_type": "stream",
     "text": [
      "Среднее число купленных товаров на пользователя после обучения модели = 4.242079360196863\n"
     ]
    },
    {
     "name": "stderr",
     "output_type": "stream",
     "text": [
      "                                                                                \r"
     ]
    }
   ],
   "source": [
    "# получаем отклики на рекомендации\n",
    "true_resp = sim.sample_responses(\n",
    "    recs_df=recs,\n",
    "    user_features=users,\n",
    "    item_features=items,\n",
    "    action_models=task_3_model\n",
    ").cache()\n",
    "\n",
    "# оцениваем качество\n",
    "print(f\"Среднее число купленных товаров на пользователя после обучения модели = {calc_metric(true_resp)}\")"
   ]
  },
  {
   "cell_type": "code",
   "execution_count": 22,
   "id": "79a52db4-18b2-43aa-bcd1-37e329594425",
   "metadata": {},
   "outputs": [],
   "source": [
    "recs.unpersist()\n",
    "true_resp.unpersist();"
   ]
  },
  {
   "cell_type": "code",
   "execution_count": null,
   "id": "e6da8bec",
   "metadata": {
    "cellId": "lt3003t7oupdbfimri0y3"
   },
   "outputs": [],
   "source": []
  }
 ],
 "metadata": {
  "kernelspec": {
   "display_name": "hackenv",
   "language": "python",
   "name": "hackenv"
  },
  "language_info": {
   "codemirror_mode": {
    "name": "ipython",
    "version": 3
   },
   "file_extension": ".py",
   "mimetype": "text/x-python",
   "name": "python",
   "nbconvert_exporter": "python",
   "pygments_lexer": "ipython3",
   "version": "3.8.15"
  },
  "notebookId": "adf09168-546e-46ba-8f2b-fc5d5910f3b6",
  "notebookPath": "sources/sim4rec/sber-simulator-main/task_3.ipynb"
 },
 "nbformat": 4,
 "nbformat_minor": 5
}
