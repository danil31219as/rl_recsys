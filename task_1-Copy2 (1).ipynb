{
 "cells": [
  {
   "cell_type": "code",
   "execution_count": 1,
   "metadata": {
    "cellId": "huydgn44hwaihflq1o7s"
   },
   "outputs": [],
   "source": [
    "%load_ext autoreload\n",
    "%autoreload 2"
   ]
  },
  {
   "cell_type": "markdown",
   "metadata": {
    "cellId": "5nmr5qtyi4l6dv4003f5hk",
    "execution_id": "b4c3a56f-dd79-4dc8-9c15-e451a726c6d8"
   },
   "source": [
    "# Рекомендуем популярные товары"
   ]
  },
  {
   "cell_type": "markdown",
   "metadata": {
    "cellId": "4st89ea75i9z0offn8c4d",
    "execution_id": "69ada54d-c332-4dd2-9b9a-72f16d1bfb76"
   },
   "source": [
    "Вы - разработчик рекомендательной системы в сервисе по заказу продуктов \"Хлеб и корочка\". Пользователи заказывают продукты питания на вашем сайте. Заходя на главную страницу, они видят 20 рекомендуемых товаров и выбирают понравившиеся. Мы изучили их предпочтения и выяснили, что пользователи часто выбирают популярные товары. У нас нет информации о товарах и пользователях, кроме их идентификаторов (id). Вам нужно обучить рекомендательную модель, максимизирующую количество купленных товаров. У вас нет исторических данных, но доступен симулятор, генерирующий отклики пользователей на рекомендации, который поможет получить данные в интерактивном режиме.\n",
    "\n",
    "\n",
    "### Пользователи\n",
    "1000 анонимных пользователей\n",
    "\n",
    "### Товары\n",
    "100 товаров повседневного спроса\n",
    "\n",
    "### Модель отклика пользователя на товары\n",
    "Пользователь с большей вероятностью выбирают часто покупаемые товары. Пользователи покупают товары только из рекомендаций, по одной штуке и могут покупать те же самые товары при повторном посещении сервиса.\n",
    "\n",
    "### Задача\n",
    "Построить рекомендательную систему, которая обеспечит наибольшее количество покупок товаров на пользователя\n",
    "\n",
    "### Доступные данные\n",
    "Пользователи будут реагировать на ваши рекомендации в интерактивном режиме. Вы получаете список пользователей, для каждого из которых нужно подготовить по 20 рекомендаций. Модель отклика симулятора генерирует отклики на рекомендации, которые вы можете использовать для обучения рекомендательной системы. Мы не \"прячем\" от вас модель отклика, но просим не использовать ее и данные, которые она использует, в своем решении. В данной задаче вы не обладаете никакой информацией о пользователях и товарах, кроме их идентификаторов."
   ]
  },
  {
   "cell_type": "markdown",
   "metadata": {
    "cellId": "clgbov6mhobo4qiiwnywgn",
    "execution_id": "90d2c280-8e33-4e94-a170-404f6069b78f"
   },
   "source": [
    "## Симулятор\n",
    "Симуляторы для рекомендательных систем - популярная тема для исследований и разработки в последние годы. Например, свои симуляторы разрабатывались в таких компаниях как Criteo, Google, Netflix, Baidu. Симуляторы позволяют: сохранять анонимность реальных пользователей, обучать модели и сравнивать их offline, изучать поведение и метрики рекомендательных систем в долгосрочной перспективе.\n",
    "В компаниях экосистемы Сбера есть довольно много рекомендательных задач и данных. __Симулятор Sim4Rec разработан Сбером для моделирования взаимодействия пользователей с рекомендательными системами.__ Ниже представлена схема цикла симуляции для обучения и тестирования рекомендательных систем в нашем симуляторе."
   ]
  },
  {
   "cell_type": "markdown",
   "metadata": {
    "cellId": "r8wia0dt7kztld3k4v8i",
    "execution_id": "74a1b3cc-af72-4400-995d-2a5ae300c1f6"
   },
   "source": [
    "<img src=\"./images/simulation_cycle.png\">"
   ]
  },
  {
   "cell_type": "markdown",
   "metadata": {
    "cellId": "oabdiwu6c2qsfu9vbpsj",
    "execution_id": "0ade52a8-9e0d-4a43-aa09-65ce515b1cf8"
   },
   "source": [
    "Для симуляции могут использоваться реальные и синтетические профили (признаки/фичи) пользователей (users) и товаров (items).\n",
    "Использование синтетических данных позволяет сохранить приватность реальных клиентов и смоделировать более разнообразные ситуации (например, сгененрировать больше пользователей из какой-то группы/кластера).\n",
    "\n",
    "(1) После генерации популяции товаров и пользователей можно запускать цикл симуляции.\n",
    "На первом этапе мы выбираем пользователей, который будут взаимодействовать с рекомендательной системой на данной итерации. Это могут быть все пользователи или какая-то их часть.\n",
    "\n",
    "(2) Затем мы можем выбрать товары, которые будут доступны для пользователей. В базовом варианте, который и будет реализован в наших заданиях, все товары доступны для всех пользователей. Но в реальной жизни какие-то товары могут отсутствовать, могут быть недоступны пользователям из-за ограничений, или же наоборот, мы может формировать персональные предложения для пользователей на этом этапе. \n",
    "\n",
    "(3) Следом начинается работа рекомендательная система, которая генерирует для пользователей рекомендуемые товары. Мы будем рассматривать задачу генерации top-k наиболее релевантных товаров для пользователя.\n",
    "\n",
    "(4) Рекомендации возвращаются в симулятор, который генерируют отклик пользователей на увиденные рекомендации. Это могут быть лайки, добавление в избранное, факт покупки, время просмотра. В реальной задаче пользователь может давать отклики разных типов, мы будем рассматривать только один тип отклика (например, покупку).\n",
    "\n",
    "(5) Рекомендательная система обновляется с учетом информации об откликах, полученных на текущей итерации цикла симуляции.\n",
    "\n",
    "Ваша задача - написать алгоритм рекомендательной системы, который даст наибольшее количество положительных откликов на пользователя. Алгоримтм будет обучаться в цикле симуляции N итераций, а на N + 1 итерации будет оцениваться качество рекомендаций в метрике Precision@K (среднее число кликов из top-K рекомендаций у пользователя)."
   ]
  },
  {
   "cell_type": "markdown",
   "metadata": {
    "cellId": "vgp0iupxtxrtwk3vo5b2",
    "execution_id": "77f9e98b-8d81-41b6-901b-40c87d2a6ded"
   },
   "source": [
    "## Симулятор и большие данные"
   ]
  },
  {
   "cell_type": "markdown",
   "metadata": {
    "cellId": "y2bqfik6y1hw48hj2jjafd",
    "execution_id": "5393c957-e281-47bb-b36c-2ad29c4fca31"
   },
   "source": [
    "В экосистеме Сбера есть сервисы, у которых большое количество клиентов, и которые предлагают большое количество товаров. Часто для работы с такими объемами данных используются решения на spark. Симулятор sim4rec написан на pyspark и позволяет использовать преимущества spark-а для работы с большими данными и простоту и ds-инструмены python.\n",
    "\n",
    "Ваша рекомендательная модель может быть написана на чем угодно, главное конвертировать результаты ее работы в pyspark в нужном формате перед передачей их в симулятор. Если вы не работали с pyspark ранее, вам поможет наш [tutorial](./pyspark_tutorial.ipynb), выложенный в директории с ноутбуками."
   ]
  },
  {
   "cell_type": "markdown",
   "metadata": {
    "cellId": "a23y5u7l746q73y0tqxss",
    "execution_id": "b0740c39-9cda-411d-b832-490de8695080"
   },
   "source": [
    "## Импорты и настройки"
   ]
  },
  {
   "cell_type": "code",
   "execution_count": 2,
   "metadata": {},
   "outputs": [],
   "source": [
    "import os\n",
    "import sys\n",
    "os.environ[\"PYSPARK_PYTHON\"]=sys.executable\n",
    "os.environ[\"PYSPARK_DRIVER_PYTHON\"]=sys.executable"
   ]
  },
  {
   "cell_type": "code",
   "execution_count": 3,
   "metadata": {
    "cellId": "jlz0twee16goe1fisulv5"
   },
   "outputs": [],
   "source": [
    "import random\n",
    "import time\n",
    "\n",
    "import pandas as pd\n",
    "import numpy as np\n",
    "\n",
    "import pyspark.sql.functions as sf\n",
    "from pyspark import SparkConf\n",
    "from pyspark.ml import PipelineModel\n",
    "from pyspark.sql import SparkSession\n",
    "from surprise import SVD, Dataset, Reader, SVDpp, KNNBaseline, SlopeOne, NMF\n",
    "\n",
    "\n",
    "from replay.models import UCB\n",
    "from replay.session_handler import State\n",
    "from replay.utils import get_top_k_recs\n",
    "\n",
    "# укажите путь к tmp-папке spark и директории с чекпоинтами симулятора.\n",
    "SPARK_LOCAL_DIR = './tmp/task_1'\n",
    "CHECKPOINT_DIR = './tmp/task_1_checkpoints'"
   ]
  },
  {
   "cell_type": "code",
   "execution_count": 4,
   "metadata": {
    "cellId": "cs1ysc6amtr9plpbijvt"
   },
   "outputs": [],
   "source": [
    "from simulator.modules import RealDataGenerator\n",
    "from simulator.modules import Simulator\n",
    "\n",
    "from helpers.task_1_model import TaskOneResponse\n",
    "from helpers.utils import plot_metric, calc_metric"
   ]
  },
  {
   "cell_type": "code",
   "execution_count": 5,
   "metadata": {
    "cellId": "ku55idy38nqtlrc187ucq"
   },
   "outputs": [],
   "source": [
    "%%bash -s \"$CHECKPOINT_DIR\" \"$SPARK_LOCAL_DIR\"\n",
    "# симулятор записывает историю взаимодействия пользователей с рекомендательной системой на диск\n",
    "# чтобы перезапустить цикл симуляции или начать новый, очистите директорию или используйте другую в качестве CHECKPOINT_DIR\n",
    "rm -rf $1 $2"
   ]
  },
  {
   "cell_type": "code",
   "execution_count": 6,
   "metadata": {
    "cellId": "v1uc08ym8h8d7qxpmsop4"
   },
   "outputs": [
    {
     "name": "stderr",
     "output_type": "stream",
     "text": [
      "22/12/03 10:00:42 WARN Utils: Your hostname, cl1nr5sb14mq6gk2g9m8-ybuc resolves to a loopback address: 127.0.1.1; using 10.129.0.36 instead (on interface eth0)\n",
      "22/12/03 10:00:42 WARN Utils: Set SPARK_LOCAL_IP if you need to bind to another address\n",
      "WARNING: An illegal reflective access operation has occurred\n",
      "WARNING: Illegal reflective access by org.apache.spark.unsafe.Platform (file:/opt/venvs/hackenv/lib/python3.8/site-packages/pyspark/jars/spark-unsafe_2.12-3.1.3.jar) to constructor java.nio.DirectByteBuffer(long,int)\n",
      "WARNING: Please consider reporting this to the maintainers of org.apache.spark.unsafe.Platform\n",
      "WARNING: Use --illegal-access=warn to enable warnings of further illegal reflective access operations\n",
      "WARNING: All illegal access operations will be denied in a future release\n",
      "22/12/03 10:00:42 WARN NativeCodeLoader: Unable to load native-hadoop library for your platform... using builtin-java classes where applicable\n",
      "Using Spark's default log4j profile: org/apache/spark/log4j-defaults.properties\n",
      "Setting default log level to \"WARN\".\n",
      "To adjust logging level use sc.setLogLevel(newLevel). For SparkR, use setLogLevel(newLevel).\n",
      "22/12/03 10:00:42 WARN SparkConf: Note that spark.local.dir will be overridden by the value set by the cluster manager (via SPARK_LOCAL_DIRS in mesos/standalone/kubernetes and LOCAL_DIRS in YARN).\n",
      "22/12/03 10:00:43 WARN Utils: Service 'SparkUI' could not bind on port 4040. Attempting port 4041.\n"
     ]
    }
   ],
   "source": [
    "# если вы не работали со Spark ранее, оставьте настройки сессии неизменными\n",
    "NUM_THREADS = 4\n",
    "\n",
    "spark = SparkSession.builder\\\n",
    "    .appName('simulator')\\\n",
    "    .master(f'local[{NUM_THREADS}]')\\\n",
    "    .config('spark.sql.shuffle.partitions', f'{NUM_THREADS * 3}')\\\n",
    "    .config('spark.default.parallelism', f'{NUM_THREADS * 3}')\\\n",
    "    .config('spark.driver.extraJavaOptions', '-XX:+UseG1GC')\\\n",
    "    .config('spark.executor.extraJavaOptions', '-XX:+UseG1GC')\\\n",
    "    .config('spark.local.dir', SPARK_LOCAL_DIR)\\\n",
    "    .getOrCreate()\n",
    "\n",
    "State(spark)\n",
    "spark.sparkContext.setLogLevel('ERROR')"
   ]
  },
  {
   "cell_type": "code",
   "execution_count": 7,
   "metadata": {
    "cellId": "9vf3sqixr4vgau073549pv"
   },
   "outputs": [],
   "source": [
    "NUM_USERS = 1000\n",
    "NUM_ITEMS = 100\n",
    "# число рекомендаций, генерируемых рекомендательной системой на пользователя на одной итерации\n",
    "K = 20\n",
    "# количество итераций\n",
    "NUM_ITER = 50\n",
    "SEED = 1234"
   ]
  },
  {
   "cell_type": "markdown",
   "metadata": {
    "cellId": "ffl9l89trncxzwbk5zq7gn",
    "execution_id": "cbbf5328-af84-4368-957e-3c000bd80332"
   },
   "source": [
    "## Исходные данные"
   ]
  },
  {
   "cell_type": "markdown",
   "metadata": {
    "cellId": "v3vr0zvzup8v5pgz5d2av8",
    "execution_id": "1450d44b-a832-4f3e-9be4-288b1a820507"
   },
   "source": [
    "В нашем распоряжении есть id пользователей и товаров."
   ]
  },
  {
   "cell_type": "code",
   "execution_count": 8,
   "metadata": {
    "cellId": "zh9qtijcn5143mi4887od"
   },
   "outputs": [
    {
     "name": "stderr",
     "output_type": "stream",
     "text": [
      "[Stage 0:>                                                          (0 + 1) / 1]\r"
     ]
    },
    {
     "name": "stdout",
     "output_type": "stream",
     "text": [
      "+--------+\n",
      "|item_idx|\n",
      "+--------+\n",
      "|       0|\n",
      "|       1|\n",
      "+--------+\n",
      "only showing top 2 rows\n",
      "\n"
     ]
    },
    {
     "name": "stderr",
     "output_type": "stream",
     "text": [
      "                                                                                \r"
     ]
    }
   ],
   "source": [
    "users = spark.createDataFrame([[x] for x in range(NUM_USERS)], schema=[\"user_idx\"])\n",
    "items = spark.createDataFrame([[x] for x in range(NUM_ITEMS)], schema=[\"item_idx\"])\n",
    "items.show(2)"
   ]
  },
  {
   "cell_type": "markdown",
   "metadata": {
    "cellId": "reiwo8a6ywa70ocv8zvlg2",
    "execution_id": "f7be10a7-b1eb-41c1-9d0f-24dab88790bc"
   },
   "source": [
    "Симулятор позволяет использовать реальные данные о пользователях и товарах (фичи) и синтетические (сгенерированные на основе реальных). \n",
    "В этой задаче в нашем распоряжении есть только id пользователей и товаров, генерация синтетических данных в этой задаче не актуальна. Поэтому мы будем использовать реальные данные и сэмплировать из них с использованием RealDataGenerator."
   ]
  },
  {
   "cell_type": "code",
   "execution_count": 9,
   "metadata": {
    "cellId": "3btpzal8hblukqhq46asd"
   },
   "outputs": [
    {
     "data": {
      "text/plain": [
       "DataFrame[user_idx: bigint]"
      ]
     },
     "execution_count": 9,
     "metadata": {},
     "output_type": "execute_result"
    }
   ],
   "source": [
    "item_generator = RealDataGenerator(label='items_real', seed=SEED)\n",
    "user_generator = RealDataGenerator(label='users_real', seed=SEED)\n",
    "\n",
    "# передадим популяции пользователей и айтемов\n",
    "item_generator.fit(items)\n",
    "user_generator.fit(users)\n",
    "\n",
    "# будем использовать всех пользователей и айтемы из популяции\n",
    "item_generator.generate(NUM_ITEMS)\n",
    "user_generator.generate(NUM_USERS)"
   ]
  },
  {
   "cell_type": "markdown",
   "metadata": {
    "cellId": "1crcvslqi2qm4dnavh3obq",
    "execution_id": "2c640f43-9dd5-445d-9511-d0d100fc830c"
   },
   "source": [
    "# Пройдем одну итерацию цикла симуляции поэтапно"
   ]
  },
  {
   "cell_type": "markdown",
   "metadata": {
    "cellId": "q2oio9pylodwwu9qptdom",
    "execution_id": "0f252faf-52c4-4a99-ac83-b425c14d055e"
   },
   "source": [
    "## (1) Выбор пользователей"
   ]
  },
  {
   "cell_type": "code",
   "execution_count": 10,
   "metadata": {
    "cellId": "erkzmjzvo06nl5bok1qv5n"
   },
   "outputs": [
    {
     "data": {
      "text/plain": [
       "7"
      ]
     },
     "execution_count": 10,
     "metadata": {},
     "output_type": "execute_result"
    }
   ],
   "source": [
    "# генератор позволяет сэмплировать выбранную долю пользователей от общего количества. \n",
    "# Из-за особенностей spark это количество не будет точным. Ниже будет выбрано около 10 пользователей.\n",
    "user_generator.sample(0.01).count()"
   ]
  },
  {
   "cell_type": "markdown",
   "metadata": {
    "cellId": "tnbcus0l6hcbvoht2rnge",
    "execution_id": "a45bc1e9-f284-4702-bfeb-d525f9349d20"
   },
   "source": [
    "## (2) Выбор товаров\n",
    "В цикле симуляции вам будут доступны все 100 айтемов на каждой итерации. Вы можете самостоятельно ограничить количество доступных айтемов при желании."
   ]
  },
  {
   "cell_type": "markdown",
   "metadata": {
    "cellId": "4kfl2on9vg46431mkek4ot",
    "execution_id": "85a06070-5f73-407a-ad84-ff781e7d04fb"
   },
   "source": [
    "## (3) Инициализация рекомендательной модели"
   ]
  },
  {
   "cell_type": "markdown",
   "metadata": {
    "cellId": "3oa1khv8k5ipg7hy9wgwj",
    "execution_id": "5f3afd6c-3b88-4c44-9950-1b60c3637a72"
   },
   "source": [
    "Ваша задача - написать код рекомендательной модели, инициализировать модель здесь и использовать в цикле обучения ниже.\n",
    "\n",
    "Модель должна принимать на вход список пользователей и товаров и возвращать для каждого пользователя top-K самых релевантных для него товаров в виде датафрейма в формате <user_idx int, item_idx int, relevance double>. \n",
    "\n",
    "Модель может принимать на вход и использовать дополнительную информацию: предыдущую историю взаимодействия выбранных пользователей с рекомендательной системой и признаки пользователей и айтемов (в этой задаче их нет).\n",
    "\n",
    "Мы предлагаем вам baseline рекомендательной системы из нашей библиотеки RePlay. \n",
    "\n",
    "Модель UCB - неперсонализированный алгоритм, оценивающий релевантность товаров по верхней границе доверительного интервала. \n",
    "В момент построения рекомендаций модель сэмплирует top-K айтемов для каждого пользователя с вероятностью, пропорциональной рассчитанным релевантностям. Узнать больше об алгоритме UCB и посмотреть пример реализации можно [здесь](https://medium.com/analytics-vidhya/multi-armed-bandit-analysis-of-upper-confidence-bound-algorithm-4b84be516047)."
   ]
  },
  {
   "cell_type": "markdown",
   "metadata": {
    "cellId": "p7qktnabe0pupwrpgo1vu",
    "execution_id": "4f4957f4-cea9-47fe-9140-95dafb48e159"
   },
   "source": [
    "### Baseline модель"
   ]
  },
  {
   "cell_type": "code",
   "execution_count": 11,
   "metadata": {
    "cellId": "kck71xz164nwlq1tlo81d"
   },
   "outputs": [],
   "source": [
    "model = UCB(sample=True, seed=SEED)\n",
    "# Модель из RePlay нужно обучить на исторических данных, прежде чем можно будет обучать ее дальше в цикле \n",
    "# Обойдем это ограничение, представив, что в истории было одно взаимодействие\n",
    "model.fit(log=users.limit(1).crossJoin(items.limit(1)).withColumn(\"relevance\", sf.lit(1)))"
   ]
  },
  {
   "cell_type": "markdown",
   "metadata": {
    "cellId": "opi3hsn2jqibi88nkclwb8",
    "execution_id": "147c6c50-c7ad-4880-8e53-5505356453f0"
   },
   "source": [
    "Посмотрим, как выглядят предсказания модели для 2 пользователей: у нас есть рекомендации для обоих пользователей и для каждого пользователя вернулось по 3 товара."
   ]
  },
  {
   "cell_type": "code",
   "execution_count": 12,
   "metadata": {
    "cellId": "qanbfdw727flloimcyztvg"
   },
   "outputs": [
    {
     "name": "stdout",
     "output_type": "stream",
     "text": [
      "+--------+--------+---------+\n",
      "|user_idx|item_idx|relevance|\n",
      "+--------+--------+---------+\n",
      "|       0|      53|     0.01|\n",
      "|       0|      62|     0.01|\n",
      "|       0|      79|     0.01|\n",
      "|       1|      55|     0.01|\n",
      "|       1|      57|     0.01|\n",
      "|       1|       9|     0.01|\n",
      "+--------+--------+---------+\n",
      "\n"
     ]
    },
    {
     "name": "stderr",
     "output_type": "stream",
     "text": [
      "                                                                                \r"
     ]
    }
   ],
   "source": [
    "pred = model.predict(log=None, users=users.limit(2), items=items, k=3)\n",
    "pred.show(6)"
   ]
  },
  {
   "cell_type": "markdown",
   "metadata": {
    "cellId": "6tn53xv939c0ph8cth3961",
    "execution_id": "2c95f94f-97cc-4007-a971-d340645e0f90"
   },
   "source": [
    "## (4) Модель отклика"
   ]
  },
  {
   "cell_type": "markdown",
   "metadata": {
    "cellId": "7m11axprgbnc8wgrnr20km",
    "execution_id": "1bf409d8-8df8-4ff6-a96d-eab7b07f54d8"
   },
   "source": [
    "Модель отклика пользователей на товары в этой задаче является очень простой. Отклик является бинарным, отклик равный 1 означает факт покупки. Отклик не является детерминированным, вероятность положительного отклика пропорциональна популярности товара в прошлом.  Вероятность отклика пользователя не меняется со временем, но сам факт положительного отклика на данной итерации - случайная величина. \n",
    "\n",
    "Модель отклика принимает датафрейм с колонками <user_idx, item_idx, relevance>, где relevance - оценка релевантности рекомендательной системой и возвращает датафрейм с обязательными колонками <user_idx, item_idx, relevance, response>, добавляя к исходным данным столбец с откликами (response). Если в датафреме, поданном на вход в модель отклика, были признаки, они также будут возвращены."
   ]
  },
  {
   "cell_type": "code",
   "execution_count": 13,
   "metadata": {
    "cellId": "uayt15jraspro9gjta45f"
   },
   "outputs": [],
   "source": [
    "popularity_model = TaskOneResponse(seed=SEED)"
   ]
  },
  {
   "cell_type": "markdown",
   "metadata": {
    "cellId": "w6ds3t0qf5l0zbfq4l9u15",
    "execution_id": "f80a707c-ac52-4669-bf19-44e93f9a1f18"
   },
   "source": [
    "Посмотрим на примере, как формируется отклик для пары пользователь-товар"
   ]
  },
  {
   "cell_type": "code",
   "execution_count": 14,
   "metadata": {
    "cellId": "0oh4d53bucmmcamy8oc28u7"
   },
   "outputs": [
    {
     "name": "stdout",
     "output_type": "stream",
     "text": [
      "+--------+--------+---------+--------+\n",
      "|user_idx|item_idx|relevance|response|\n",
      "+--------+--------+---------+--------+\n",
      "|       0|      53|     0.01|       0|\n",
      "|       0|      62|     0.01|       0|\n",
      "|       0|      79|     0.01|       0|\n",
      "|       1|      55|     0.01|       0|\n",
      "|       1|      57|     0.01|       0|\n",
      "|       1|       9|     0.01|       0|\n",
      "+--------+--------+---------+--------+\n",
      "\n"
     ]
    }
   ],
   "source": [
    "test_response = popularity_model.transform(pred)\n",
    "test_response.show()"
   ]
  },
  {
   "cell_type": "markdown",
   "metadata": {
    "cellId": "oklaxbiawagxloskdgy6g",
    "execution_id": "418b174f-f4be-49fe-88aa-585826871197"
   },
   "source": [
    "## (5) Дообучение рекомендательной модели"
   ]
  },
  {
   "cell_type": "markdown",
   "metadata": {
    "cellId": "jtzgewc5yum46r8l0yn4ec",
    "execution_id": "6febd38d-8e13-4d31-9a0e-901178cd3925"
   },
   "source": [
    "После получения откликов на рекомендации можно дообучать рекомендательную модель. В примере выше бинарный отклик находится в колонке response, а модель принимает на вход историю взамодействия (log) в виде датафрейма со столбцами <user_idx, item_idx, relevance>. Т.е. нам нужно будет выбрать нужные столбцы из истории и переименовать response в relevance. Обратите внимание, что если ваша модель использует признаки, они могут быть переданы в модель как отдельные параметры при инициализации или быть добавлены в log в виде отдельных колонок. \n",
    "Вы можете реализовать дообучение модели на новых данных на каждой итерации или полностью переобучать модель на всех данных, имеющихся в логе симулятора `sim.log`. Здесь будет пример с дообучением, а в цикле ниже будем использовать переобучение на всех данных."
   ]
  },
  {
   "cell_type": "code",
   "execution_count": 15,
   "metadata": {},
   "outputs": [
    {
     "name": "stdout",
     "output_type": "stream",
     "text": [
      "+--------+--------+---------+\n",
      "|user_idx|item_idx|relevance|\n",
      "+--------+--------+---------+\n",
      "|       0|      53|        0|\n",
      "|       0|      62|        0|\n",
      "|       0|      79|        0|\n",
      "|       1|      55|        0|\n",
      "|       1|      57|        0|\n",
      "|       1|       9|        0|\n",
      "+--------+--------+---------+\n",
      "\n"
     ]
    }
   ],
   "source": [
    "new_log = test_response.drop(\"relevance\").withColumnRenamed(\"response\", \"relevance\")\n",
    "new_log.show()"
   ]
  },
  {
   "cell_type": "code",
   "execution_count": 16,
   "metadata": {
    "cellId": "6s4g64l6fgjg50d1ccnyqn"
   },
   "outputs": [],
   "source": [
    "# вы можете реализовать дообучение модели на новых данных или переобучение на всех данных, накопленных в ходе одного цикла симуляции\n",
    "model.refit(log=test_response.drop(\"relevance\").withColumnRenamed(\"response\", \"relevance\"))"
   ]
  },
  {
   "cell_type": "markdown",
   "metadata": {
    "cellId": "ytr06uktdlrtba7yym35z",
    "execution_id": "875247d7-4576-4f2e-8524-57a90ec7b530"
   },
   "source": [
    "## (6) Оценка качества рекомендаций"
   ]
  },
  {
   "cell_type": "markdown",
   "metadata": {
    "cellId": "rlp6n6ghul6do1y9tnfs3",
    "execution_id": "c66c5616-7b51-46fb-bf64-ff3aae3560a3"
   },
   "source": [
    "Оценка качества будет выполняться по среднему числу положительных откликов на пользователя. Если ваша модель делает exploration, ее качество может быть ниже, чем будет в реальности. В таком случае, чтобы оценить реальный прогресс модели, вы можете сгенерировать рекомендации и отклики повторно, без exploration, но эти данные допустимо использовать только для оценки метрики, а не для дообучения."
   ]
  },
  {
   "cell_type": "code",
   "execution_count": 17,
   "metadata": {
    "cellId": "ggmpn0ggz9nq4qt06ubae"
   },
   "outputs": [
    {
     "data": {
      "text/plain": [
       "0.0"
      ]
     },
     "execution_count": 17,
     "metadata": {},
     "output_type": "execute_result"
    }
   ],
   "source": [
    "calc_metric(test_response)"
   ]
  },
  {
   "cell_type": "markdown",
   "metadata": {
    "cellId": "o0o3kq6tjrs7tuvbdikavd",
    "execution_id": "7c137458-8817-41ef-aa39-c255fe3286f6"
   },
   "source": [
    "# Обучение модели в симуляторе"
   ]
  },
  {
   "cell_type": "markdown",
   "metadata": {
    "cellId": "m69ycwht2xw4zqjda67f",
    "execution_id": "d0230060-cc25-4a54-8324-239725199e9a"
   },
   "source": [
    "Перейдем непосредственно к циклу симуляции. Инициализируем симулятор и все нужные для симуляции модели. Обратите внимание, что если вы захотите перезапустить эксперимент, нужно будет выбрать другую папку для сохранения данных `data_dir` или удалить с диска результаты предыдущего эксперимента. Либо вы можете продолжить эксперимент с новой итерации (например, последней была выполнена 10 итерация, значит цикл нужно продолжить с 11-ой). \n",
    "\n",
    "Запустите ячейки ниже последовательно, чтобы начать новый эксперимент."
   ]
  },
  {
   "cell_type": "code",
   "execution_count": 18,
   "metadata": {
    "cellId": "kkg4h3xdwqhgpk4gs9y37m"
   },
   "outputs": [],
   "source": [
    "%%bash -s \"$CHECKPOINT_DIR\"\n",
    "# симулятор записывает историю взаимодействия пользователей с рекомендательной системой на диск\n",
    "# чтобы перезапустить цикл симуляции или начать новый, очистите директорию или используйте другую в качестве CHECKPOINT_DIR\n",
    "rm -rf $1"
   ]
  },
  {
   "cell_type": "markdown",
   "metadata": {
    "cellId": "wkff236bnjdemsw693fj6s",
    "execution_id": "2f344684-ba2b-4d19-9079-527e6e2d7969"
   },
   "source": [
    "## Повторно инциализируем компоненты симулятора"
   ]
  },
  {
   "cell_type": "code",
   "execution_count": 19,
   "metadata": {
    "cellId": "9eplt0wb7cnd273dkt5n6"
   },
   "outputs": [],
   "source": [
    "user_generator.initSeedSequence(SEED)\n",
    "item_generator.initSeedSequence(SEED)\n",
    "\n",
    "sim = Simulator(\n",
    "    user_gen=user_generator,\n",
    "    item_gen=item_generator,\n",
    "    data_dir=f'{CHECKPOINT_DIR}/pipeline',\n",
    "    user_key_col='user_idx',\n",
    "    item_key_col='item_idx',\n",
    "    spark_session=spark\n",
    ")"
   ]
  },
  {
   "cell_type": "markdown",
   "metadata": {
    "cellId": "35d5ikn8w0sa9v9nekytlf",
    "execution_id": "ce78df74-0f10-44ee-a979-c30e250a5621"
   },
   "source": [
    "## Инициализация вашей рекомендательной модели"
   ]
  },
  {
   "cell_type": "code",
   "execution_count": 21,
   "metadata": {},
   "outputs": [],
   "source": [
    "from sklearn.preprocessing import MinMaxScaler\n",
    "import numpy as np\n",
    "class SVDRL:\n",
    "    def __init__(self):\n",
    "        #self.model = SVDpp(n_factors=20, n_epochs=20)\n",
    "        self.models = [(KNNBaseline(k=40), 0.5), (SVDpp(n_factors=20, n_epochs=20), 0.3), (SVD(), 0.2)]\n",
    "        #self.model = NMF(n_factors=20, n_epochs=20)\n",
    "        self.ucb = UCB(sample=True, seed=SEED)\n",
    "        self.scaler = MinMaxScaler()\n",
    "        \n",
    "    def fit(self, log=None):\n",
    "        self.ucb.fit(log)\n",
    "        log = log.toPandas()\n",
    "        reader = Reader(rating_scale=(0, 1))\n",
    "        data = Dataset.load_from_df(log[[\"user_idx\", \"item_idx\", \"relevance\"]], reader)\n",
    "        trainset = data.build_full_trainset()\n",
    "        for e in range(3):\n",
    "            self.models[e][0].fit(trainset)\n",
    "        #self.model.fit(trainset)\n",
    "        \n",
    "    def predict(self, log=None, k=None, users=None, items=None, filter_seen_items=None):\n",
    "        result = []\n",
    "        recs = self.ucb.predict(\n",
    "            log=log,\n",
    "            k=items.count(),\n",
    "            users=users,\n",
    "            items=items,\n",
    "            filter_seen_items=False\n",
    "        ).cache()\n",
    "        recs = recs.toPandas().sort_values(by=['user_idx', 'item_idx'])\n",
    "        recs['relevance'] = self.scaler.fit_transform(np.array(recs['relevance']).reshape(-1, 1)).reshape(-1)\n",
    "        it_ = 0\n",
    "        for u in sorted(users.toPandas()['user_idx']):\n",
    "            buffer = []\n",
    "            for i in sorted(items.toPandas()['item_idx']):\n",
    "                score = sum([model[0].predict(u, i).est * model[1] for model in self.models]) + recs.iloc[it_]['relevance'] * 0.1\n",
    "                it_ += 1\n",
    "                buffer.append((u, i, score))\n",
    "            buffer.sort(key=lambda x: -x[2])\n",
    "            result.extend(buffer[:k])\n",
    "        return spark.createDataFrame(pd.DataFrame(result, columns=['user_idx', 'item_idx', 'relevance']))"
   ]
  },
  {
   "cell_type": "code",
   "execution_count": 22,
   "metadata": {
    "cellId": "igjq5s75kadobs0fh8s49"
   },
   "outputs": [
    {
     "name": "stdout",
     "output_type": "stream",
     "text": [
      "Estimating biases using als...\n",
      "Computing the msd similarity matrix...\n",
      "Done computing similarity matrix.\n"
     ]
    }
   ],
   "source": [
    "### YOUR CODE HERE: инициализация модели\n",
    "model = SVDRL()\n",
    "model.fit(log=users.limit(1).crossJoin(items.limit(1)).withColumn(\"relevance\", sf.lit(1)))\n",
    "###"
   ]
  },
  {
   "cell_type": "markdown",
   "metadata": {
    "cellId": "32xq7dw4q0uk4bwf04bzac",
    "execution_id": "5a37dcac-ecb3-4c8a-b613-96059682e31d"
   },
   "source": [
    "### Проверка формата рекомендаций моделью"
   ]
  },
  {
   "cell_type": "code",
   "execution_count": 23,
   "metadata": {
    "cellId": "mz1tro3j75j8a8hcuvjvl7"
   },
   "outputs": [],
   "source": [
    "### YOUR CODE HERE: получите K уникальных рекомендаций для 10 пользователей \n",
    "pred = model.predict(log=None, users=users.limit(10), items=items, k=K)\n",
    "###\n",
    "\n",
    "# проверьте правильность формирования рекомендаций\n",
    "assert pred.columns == [\"user_idx\", \"item_idx\", \"relevance\"]\n",
    "assert pred.groupBy('user_idx').agg(sf.countDistinct(\"item_idx\").alias(\"num_items\")).filter(sf.col(\"num_items\") == sf.lit(K)).count() == 10\n",
    "assert pred.groupBy('user_idx').agg(sf.count(\"item_idx\").alias(\"num_items\")).filter(sf.col(\"num_items\") == sf.lit(K)).count() == 10"
   ]
  },
  {
   "cell_type": "markdown",
   "metadata": {
    "cellId": "363j2r5xezoduowlgowzy8",
    "execution_id": "23bcc021-9eb1-4d41-b46b-6a05442fd92e"
   },
   "source": [
    "## Инициализация функции отклика"
   ]
  },
  {
   "cell_type": "code",
   "execution_count": 24,
   "metadata": {
    "cellId": "0gtzwgls0htlluzisn2m2"
   },
   "outputs": [],
   "source": [
    "popularity_model = TaskOneResponse(seed=SEED)"
   ]
  },
  {
   "cell_type": "markdown",
   "metadata": {
    "cellId": "1t5x6egzvjmz7yk9tc7gf",
    "execution_id": "50e4dc71-1b47-4832-af9f-efcd08b5b47c"
   },
   "source": [
    "## Цикл симуляции"
   ]
  },
  {
   "cell_type": "code",
   "execution_count": 25,
   "metadata": {
    "cellId": "m8cqe5z1g7huuqmkea7hsf"
   },
   "outputs": [],
   "source": [
    "# если вы запустили цикл симуляции и остановили его до окончания выполнения, выполните unpersist датафреймов\n",
    "# current_users.unpersist()\n",
    "# if log is not None:\n",
    "#     log.unpersist()\n",
    "# recs.unpersist()\n",
    "# true_resp.unpersist()\n",
    "# train_log..unpersist()"
   ]
  },
  {
   "cell_type": "code",
   "execution_count": 26,
   "metadata": {
    "cellId": "9xd6azbslgcdb0hsl7sm"
   },
   "outputs": [
    {
     "data": {
      "image/png": "[encoded data removed]",
      "text/plain": [
       "<Figure size 640x480 with 1 Axes>"
      ]
     },
     "metadata": {},
     "output_type": "display_data"
    },
    {
     "name": "stdout",
     "output_type": "stream",
     "text": [
      "Iteration 49 finished in 33.826072216033936 sec.\n"
     ]
    }
   ],
   "source": [
    "metrics = []\n",
    "for i in range(NUM_ITER):\n",
    "    print(f'Iteration {i} started')\n",
    "    iter_time = time.time()\n",
    "    # выбираем пользователей, которые делают покупки на данной итерации\n",
    "    current_users = sim.sample_users(0.1).cache()\n",
    "    # получаем историю их взаимодействия с симулятором в прошлом\n",
    "    log = sim.get_log(users)\n",
    "\n",
    "    \n",
    "    ### YOUR CODE HERE: порекомендуйте top-K товаров для каждого пользователя из current_users\n",
    "    recs = model.predict(\n",
    "        log=log,\n",
    "        k=K,\n",
    "        users=current_users,\n",
    "        items=items,\n",
    "        filter_seen_items=False\n",
    "    ).cache()\n",
    "    ###\n",
    "    \n",
    "    assert (recs\n",
    "            .groupBy('user_idx')\n",
    "            .agg(sf.count(\"item_idx\").alias(\"num_items\"))\n",
    "            .filter(sf.col(\"num_items\") == sf.lit(K))\n",
    "            .count() \n",
    "            == \n",
    "            current_users.count()\n",
    "           )\n",
    "    \n",
    "    # получаем отклики на рекомендации\n",
    "    true_resp = sim.sample_responses(\n",
    "        recs_df=recs,\n",
    "        user_features=current_users,\n",
    "        item_features=items,\n",
    "        action_models=popularity_model\n",
    "    ).cache()\n",
    "\n",
    "    # записываем историю взаимодействия пользователей с рекомендательной системой на этой итерации\n",
    "    sim.update_log(true_resp, iteration=i)\n",
    "\n",
    "    # оцениваем качество. внутри цикла модель делает exploration, \n",
    "    # поэтому финальное качество может быть лучше после его отключения\n",
    "    # пример оценки метрик с отключением exploration дан в задании 2\n",
    "    metrics.append(calc_metric(true_resp))\n",
    "\n",
    "   ### YOUR CODE HERE: дообучите рекомендательную модель на новых данных\n",
    "    model.ucb._clear_cache()\n",
    "    train_log = sim.log.cache()\n",
    "    model.fit(\n",
    "        log=train_log.select('user_idx', 'item_idx', 'response')\\\n",
    "                     .withColumnRenamed('response', 'relevance')\n",
    "        )\n",
    "    ###\n",
    "\n",
    "    current_users.unpersist()\n",
    "    if log is not None:\n",
    "        log.unpersist()\n",
    "    recs.unpersist()\n",
    "    true_resp.unpersist()\n",
    "    train_log.unpersist()\n",
    "\n",
    "    plot_metric(metrics)\n",
    "    print(f'Iteration {i} finished in {time.time() - iter_time} sec.')"
   ]
  },
  {
   "cell_type": "markdown",
   "metadata": {
    "cellId": "5p947g8ch5fzyd0xzbd08",
    "execution_id": "ed503557-8e2d-48d3-8852-f3615cdf4b23"
   },
   "source": [
    "Посмотреть на результаты работы модели и функции отлика на конкретной итерации можно в log-e симулятора"
   ]
  },
  {
   "cell_type": "code",
   "execution_count": 35,
   "metadata": {
    "cellId": "zpg8amfm8mvopmyulehl9"
   },
   "outputs": [
    {
     "name": "stdout",
     "output_type": "stream",
     "text": [
      "+--------+--------+--------------------+--------+------+\n",
      "|item_idx|user_idx|           relevance|response|__iter|\n",
      "+--------+--------+--------------------+--------+------+\n",
      "|      79|      12|0.019447182985964064|       0|     1|\n",
      "|      57|      12|0.015374348077430188|       0|     1|\n",
      "+--------+--------+--------------------+--------+------+\n",
      "only showing top 2 rows\n",
      "\n"
     ]
    }
   ],
   "source": [
    "sim.log.filter(sf.col(\"__iter\") == 1).show(2)"
   ]
  },
  {
   "cell_type": "markdown",
   "metadata": {
    "cellId": "88e22p9mr9l14b1w99sb",
    "execution_id": "39f72a9b-e28c-4ae8-8c63-9f1dfc59721a"
   },
   "source": [
    "## Финальный результат"
   ]
  },
  {
   "cell_type": "code",
   "execution_count": 27,
   "metadata": {
    "cellId": "s06ebpys4j0613t0tm6h5p"
   },
   "outputs": [
    {
     "name": "stderr",
     "output_type": "stream",
     "text": [
      "                                                                                \r"
     ]
    }
   ],
   "source": [
    "### YOUR CODE HERE: порекомендуйте top-K товаров для каждого пользователя из current_users\n",
    "# отключаем exploration модели\n",
    "recs = model.predict(\n",
    "    log=sim.log,\n",
    "    k=K,\n",
    "    users=users,\n",
    "    items=items,\n",
    "    filter_seen_items=False\n",
    ").cache()\n",
    "###\n",
    "\n",
    "assert (recs\n",
    "        .groupBy('user_idx')\n",
    "        .agg(sf.count(\"item_idx\").alias(\"num_items\"))\n",
    "        .filter(sf.col(\"num_items\") == sf.lit(K))\n",
    "        .count() == users.count()\n",
    "       )"
   ]
  },
  {
   "cell_type": "markdown",
   "metadata": {},
   "source": [
    "Сохраните ноутбук, ячейки в котором выполнены последовательно. Результаты из ячейки ниже будут использоваться для оценки решения команды. Свою модель приложите к ноутбуку в виде py-файла и импортируйте модель из него для всех трех заданий. "
   ]
  },
  {
   "cell_type": "code",
   "execution_count": 28,
   "metadata": {
    "cellId": "jkr7id6a4fotox3u6qyrn"
   },
   "outputs": [
    {
     "name": "stdout",
     "output_type": "stream",
     "text": [
      "Среднее число купленных товаров на пользователя после обучения модели = 2.647\n"
     ]
    }
   ],
   "source": [
    "# получаем отклики на рекомендации\n",
    "true_resp = sim.sample_responses(\n",
    "    recs_df=recs,\n",
    "    user_features=users,\n",
    "    item_features=items,\n",
    "    action_models=popularity_model\n",
    ").cache()\n",
    "\n",
    "# оцениваем качество\n",
    "print(f\"Среднее число купленных товаров на пользователя после обучения модели = {calc_metric(true_resp)}\")"
   ]
  },
  {
   "cell_type": "code",
   "execution_count": 38,
   "metadata": {
    "cellId": "yangpy3fohj3mn1c5yz2bf"
   },
   "outputs": [
    {
     "data": {
      "text/plain": [
       "DataFrame[item_idx: bigint, user_idx: bigint, relevance: double, response: int]"
      ]
     },
     "execution_count": 38,
     "metadata": {},
     "output_type": "execute_result"
    }
   ],
   "source": [
    "recs.unpersist()\n",
    "true_resp.unpersist()"
   ]
  },
  {
   "cell_type": "code",
   "execution_count": null,
   "metadata": {
    "cellId": "p8gg6nh7uua3kdxoc8x7wn"
   },
   "outputs": [],
   "source": []
  }
 ],
 "metadata": {
  "kernelspec": {
   "display_name": "hackenv",
   "language": "python",
   "name": "hackenv"
  },
  "language_info": {
   "codemirror_mode": {
    "name": "ipython",
    "version": 3
   },
   "file_extension": ".py",
   "mimetype": "text/x-python",
   "name": "python",
   "nbconvert_exporter": "python",
   "pygments_lexer": "ipython3",
   "version": "3.8.15"
  },
  "notebookId": "cd4e698e-7892-45e1-a7aa-fe1453f4b402",
  "notebookPath": "sources/sim4rec/sber-simulator-main/task_1.ipynb",
  "vscode": {
   "interpreter": {
    "hash": "0c23ac1ac3d03469769ffca4283c7852312778d94b2cbd9b1a60eeafc1c4055f"
   }
  }
 },
 "nbformat": 4,
 "nbformat_minor": 4
}
